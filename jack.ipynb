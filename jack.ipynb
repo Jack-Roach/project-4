{
 "cells": [
  {
   "cell_type": "code",
   "execution_count": 2,
   "metadata": {},
   "outputs": [],
   "source": [
    "import numpy as np\n",
    "import pandas as pd\n",
    "import matplotlib.pyplot as plt\n",
    "import seaborn as sns"
   ]
  },
  {
   "cell_type": "code",
   "execution_count": 6,
   "metadata": {},
   "outputs": [],
   "source": [
    "df = pd.read_excel('data/airqualitytrendsbycity2000-2020-copy.xlsx')"
   ]
  },
  {
   "cell_type": "code",
   "execution_count": 20,
   "metadata": {},
   "outputs": [
    {
     "data": {
      "text/plain": [
       "(1072, 26)"
      ]
     },
     "execution_count": 20,
     "metadata": {},
     "output_type": "execute_result"
    }
   ],
   "source": [
    "df.shape"
   ]
  },
  {
   "cell_type": "code",
   "execution_count": 17,
   "metadata": {},
   "outputs": [
    {
     "data": {
      "text/plain": [
       "Core Based Statistical Area    732\n",
       "dtype: int64"
      ]
     },
     "execution_count": 17,
     "metadata": {},
     "output_type": "execute_result"
    }
   ],
   "source": [
    "#If a county has multiple pollutants, the pollutants are listed in separate rows and the county name is not repeated\n",
    "df.isnull().sum()[df.isnull().sum()>0]"
   ]
  },
  {
   "cell_type": "code",
   "execution_count": null,
   "metadata": {},
   "outputs": [],
   "source": []
  },
  {
   "cell_type": "code",
   "execution_count": 19,
   "metadata": {},
   "outputs": [
    {
     "data": {
      "text/plain": [
       "Index([                       'CBSA', 'Core Based Statistical Area',\n",
       "                         'Pollutant',             'Trend Statistic',\n",
       "            'Number of Trends Sites',                          2000,\n",
       "                                2001,                          2002,\n",
       "                                2003,                          2004,\n",
       "                                2005,                          2006,\n",
       "                                2007,                          2008,\n",
       "                                2009,                          2010,\n",
       "                                2011,                          2012,\n",
       "                                2013,                          2014,\n",
       "                                2015,                          2016,\n",
       "                                2017,                          2018,\n",
       "                                2019,                          2020],\n",
       "      dtype='object')"
      ]
     },
     "execution_count": 19,
     "metadata": {},
     "output_type": "execute_result"
    }
   ],
   "source": [
    "df.columns"
   ]
  },
  {
   "cell_type": "code",
   "execution_count": 23,
   "metadata": {},
   "outputs": [
    {
     "data": {
      "text/plain": [
       "CBSA   Core Based Statistical Area\n",
       "10100  Aberdeen, SD                   1\n",
       "37620  Parkersburg-Vienna, WV         1\n",
       "38420  Platteville, WI                1\n",
       "38340  Pittsfield, MA                 1\n",
       "38300  Pittsburgh, PA                 1\n",
       "                                     ..\n",
       "23460  Gadsden, AL                    1\n",
       "23420  Fresno, CA                     1\n",
       "23060  Fort Wayne, IN                 1\n",
       "22840  Fort Payne, AL                 1\n",
       "49700  Yuba City, CA                  1\n",
       "Length: 340, dtype: int64"
      ]
     },
     "execution_count": 23,
     "metadata": {},
     "output_type": "execute_result"
    }
   ],
   "source": [
    "df[['CBSA','Core Based Statistical Area']].value_counts()"
   ]
  },
  {
   "cell_type": "code",
   "execution_count": null,
   "metadata": {},
   "outputs": [],
   "source": []
  }
 ],
 "metadata": {
  "kernelspec": {
   "display_name": "Python 3",
   "language": "python",
   "name": "python3"
  },
  "language_info": {
   "codemirror_mode": {
    "name": "ipython",
    "version": 3
   },
   "file_extension": ".py",
   "mimetype": "text/x-python",
   "name": "python",
   "nbconvert_exporter": "python",
   "pygments_lexer": "ipython3",
   "version": "3.7.4"
  }
 },
 "nbformat": 4,
 "nbformat_minor": 4
}
