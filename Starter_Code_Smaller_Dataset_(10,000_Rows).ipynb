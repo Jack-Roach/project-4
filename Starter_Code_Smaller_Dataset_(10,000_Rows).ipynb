{
  "cells": [
    {
      "cell_type": "code",
      "execution_count": null,
      "metadata": {
        "id": "fGXrJty221hz"
      },
      "outputs": [],
      "source": [
        "# Math and Data Reading\n",
        "import pandas as pd\n",
        "import numpy as np\n",
        "\n",
        "# Visualization\n",
        "import seaborn as sns\n",
        "import matplotlib.pyplot as plt\n",
        "from plotly.subplots import make_subplots\n",
        "import plotly.graph_objects as go\n",
        "\n",
        "# Modeling\n",
        "from sklearn.model_selection import train_test_split\n",
        "from sklearn.preprocessing import StandardScaler\n",
        "from sklearn.preprocessing import OneHotEncoder\n",
        "from sklearn.compose import make_column_transformer\n",
        "from sklearn.pipeline import Pipeline\n",
        "from sklearn.model_selection import GridSearchCV\n",
        "from sklearn.linear_model import LogisticRegression\n",
        "from sklearn.svm import SVC\n",
        "from sklearn.ensemble import GradientBoostingClassifier\n",
        "from sklearn.neighbors import KNeighborsClassifier\n",
        "from sklearn.tree import DecisionTreeClassifier\n",
        "from sklearn.ensemble import RandomForestClassifier, AdaBoostClassifier, BaggingClassifier\n",
        "from sklearn.metrics import mean_squared_error\n",
        "from sklearn.metrics import f1_score, accuracy_score"
      ]
    },
    {
      "cell_type": "code",
      "execution_count": null,
      "metadata": {
        "id": "hbxwE7gp_6R-",
        "colab": {
          "base_uri": "https://localhost:8080/"
        },
        "outputId": "5e374994-7414-49dd-f64b-1d38fa9c626f"
      },
      "outputs": [
        {
          "output_type": "stream",
          "name": "stdout",
          "text": [
            "Drive already mounted at /content/drive; to attempt to forcibly remount, call drive.mount(\"/content/drive\", force_remount=True).\n"
          ]
        }
      ],
      "source": [
        "from google.colab import drive\n",
        "drive.mount('/content/drive')"
      ]
    },
    {
      "cell_type": "code",
      "execution_count": null,
      "metadata": {
        "id": "59NXuwbE27dp"
      },
      "outputs": [],
      "source": [
        "values = pd.read_csv('/content/drive/MyDrive/train_values.csv')\n",
        "labels = pd.read_csv('/content/drive/MyDrive/train_labels.csv')"
      ]
    },
    {
      "cell_type": "code",
      "execution_count": null,
      "metadata": {
        "id": "ejl-Y3d2GJ3g"
      },
      "outputs": [],
      "source": [
        "df_eq = pd.merge(left = values, right = labels, left_on = values['building_id'], right_on = labels['building_id'] )"
      ]
    },
    {
      "cell_type": "code",
      "execution_count": null,
      "metadata": {
        "id": "UFAc6bq0GJmu"
      },
      "outputs": [],
      "source": [
        "df_eq.drop(columns = ['building_id_x', 'building_id_y'], inplace=True)"
      ]
    },
    {
      "cell_type": "code",
      "execution_count": null,
      "metadata": {
        "id": "Vtwm7UMsCIzw"
      },
      "outputs": [],
      "source": [
        "label_key = df_eq['key_0']  # if we need it later, it's here!"
      ]
    },
    {
      "cell_type": "code",
      "execution_count": null,
      "metadata": {
        "id": "394zF1CWGJia"
      },
      "outputs": [],
      "source": [
        "df_eq.drop(columns = ['key_0'], inplace=True)"
      ]
    },
    {
      "cell_type": "markdown",
      "metadata": {
        "id": "0uLyoEYlHsUB"
      },
      "source": [
        "# Modeling"
      ]
    },
    {
      "cell_type": "code",
      "execution_count": null,
      "metadata": {
        "id": "zMNIe4O8GJZ8"
      },
      "outputs": [],
      "source": [
        "X = df_eq.drop(columns = ['damage_grade'])[:10000]\n",
        "y = df_eq['damage_grade'][:10000]"
      ]
    },
    {
      "cell_type": "code",
      "execution_count": null,
      "metadata": {
        "id": "7Jb3rSMR4IGA"
      },
      "outputs": [],
      "source": [
        "X_train, X_val, y_train, y_val = train_test_split(X, y, random_state=13, stratify=y)"
      ]
    },
    {
      "cell_type": "code",
      "execution_count": null,
      "metadata": {
        "id": "6LuOuYfI63J-"
      },
      "outputs": [],
      "source": [
        "ctr = make_column_transformer(\n",
        "    (OneHotEncoder(drop='first',  handle_unknown='ignore'), ['land_surface_condition', \n",
        "                       'foundation_type', \n",
        "                       'roof_type', \n",
        "                       'ground_floor_type', \n",
        "                       'other_floor_type', \n",
        "                       'position', \n",
        "                       'plan_configuration', \n",
        "                       'legal_ownership_status']\n",
        "     ), remainder = 'passthrough', verbose_feature_names_out = False)\n",
        "X_train_enc = pd.DataFrame(ctr.fit_transform(X_train), columns = ctr.get_feature_names_out())\n",
        "X_val_enc = pd.DataFrame(ctr.transform(X_val), columns = ctr.get_feature_names_out())"
      ]
    },
    {
      "cell_type": "code",
      "execution_count": null,
      "metadata": {
        "id": "Jj6UMTKr6QHi"
      },
      "outputs": [],
      "source": [
        "cts = make_column_transformer(\n",
        "    (StandardScaler(), ['age', 'area_percentage', 'height_percentage']),\n",
        "    remainder = 'passthrough', verbose_feature_names_out=False)\n",
        "X_train_ss = pd.DataFrame(cts.fit_transform(X_train_enc), columns = cts.get_feature_names_out())\n",
        "X_val_ss = pd.DataFrame(cts.transform(X_val_enc), columns = cts.get_feature_names_out())"
      ]
    },
    {
      "cell_type": "code",
      "execution_count": null,
      "metadata": {
        "id": "4t5LA180fJ49"
      },
      "outputs": [],
      "source": [
        "def modeling(mod, model, params):\n",
        "    mod = model\n",
        "    gs = GridSearchCV(mod, params, n_jobs=-1)\n",
        "    gs.fit(X_train_ss, y_train)\n",
        "    print('X train Accuracy: ', accuracy_score(y_train, gs.predict(X_train_ss))),\n",
        "    print('X test Accuracy: ', accuracy_score(y_val, gs.predict(X_val_ss))),\n",
        "    print('X train F1: ', f1_score(y_train, gs.predict(X_train_ss), average='weighted')), \n",
        "    print('X test F1: ', f1_score(y_val, gs.predict(X_val_ss), average='weighted'))"
      ]
    },
    {
      "cell_type": "code",
      "execution_count": null,
      "metadata": {
        "id": "muc2Cu6k3jz9"
      },
      "outputs": [],
      "source": [
        "lg_params = {\n",
        "    'tol': [.0001, .001, .01, .1],\n",
        "    'C': [.01, .1, 1, 10, 100]\n",
        "}\n",
        "\n",
        "modeling('lg', LogisticRegression(max_iter=10_000), lg_params)"
      ]
    },
    {
      "cell_type": "code",
      "source": [
        "gs = GridSearchCV(LogisticRegression(), lg_params, n_jobs=-1)"
      ],
      "metadata": {
        "id": "umBk2-WIe9JV"
      },
      "execution_count": null,
      "outputs": []
    },
    {
      "cell_type": "code",
      "source": [
        "gs_lr = gs.fit(X_train_ss, y_train)"
      ],
      "metadata": {
        "id": "nIdwY7wJffyD"
      },
      "execution_count": null,
      "outputs": []
    },
    {
      "cell_type": "code",
      "source": [
        "gs_lr.best_estimator_.coef_[0]"
      ],
      "metadata": {
        "id": "rWJpS_fHiXDl"
      },
      "execution_count": null,
      "outputs": []
    },
    {
      "cell_type": "code",
      "source": [
        "coef_df = pd.DataFrame(np.expm1(gs_lr.best_estimator_.coef_[0]), index=gs_lr.best_estimator_.feature_names_in_, columns = ['coef_val'])"
      ],
      "metadata": {
        "id": "YfxH6KnLfxcY"
      },
      "execution_count": null,
      "outputs": []
    },
    {
      "cell_type": "code",
      "source": [
        "coef_df\n",
        "coef_df_sorted = coef_df.sort_values(by=['coef_val'], ascending=False)\n",
        "coef_df_sorted"
      ],
      "metadata": {
        "id": "ZmvrPHIPjovN"
      },
      "execution_count": null,
      "outputs": []
    },
    {
      "cell_type": "code",
      "execution_count": null,
      "metadata": {
        "id": "9vJc6peo3qtw"
      },
      "outputs": [],
      "source": [
        "svc_params = {\n",
        "    'C': [.01, .1, 1, 10, 100],\n",
        "    'tol': [.0001, .001, .01, .1],\n",
        "    'class_weight': ['balanced', None]\n",
        "}\n",
        "\n",
        "modeling('svm', SVC(), svc_params)"
      ]
    },
    {
      "cell_type": "code",
      "execution_count": null,
      "metadata": {
        "id": "yVPb3-Tz3q_T"
      },
      "outputs": [],
      "source": [
        "gbc_params = {\n",
        "    'loss': ['deviance'],\n",
        "    'n_estimators': [5, 10, 50, 100, 250],\n",
        "    'min_samples_split': [2, 5, 7]\n",
        "}\n",
        "\n",
        "modeling('gbc', GradientBoostingClassifier(), gbc_params)"
      ]
    },
    {
      "cell_type": "code",
      "execution_count": null,
      "metadata": {
        "id": "120tgBBc3rD7"
      },
      "outputs": [],
      "source": [
        "rfr_params = {\n",
        "    'n_estimators' : [10, 50, 100, 150],\n",
        "    'max_depth' : [3, 4, 5]\n",
        "}\n",
        "    \n",
        "\n",
        "\n",
        "modeling('rfr', RandomForestClassifier(), rfr_params)"
      ]
    },
    {
      "cell_type": "code",
      "execution_count": null,
      "metadata": {
        "id": "awpeU5lQ3rI5"
      },
      "outputs": [],
      "source": [
        "dtr_params = {\n",
        "    'criterion' : ['gini', 'entropy'],\n",
        "    'max_depth' : [3, 4, 5]\n",
        "}\n",
        "\n",
        "modeling('dtr', DecisionTreeClassifier(), dtr_params)"
      ]
    },
    {
      "cell_type": "code",
      "execution_count": null,
      "metadata": {
        "id": "nxKp69f8A3JB"
      },
      "outputs": [],
      "source": [
        "knn_params = {\n",
        "    'n_neighbors' : [2, 4, 6, 8],\n",
        "    'weights' : ['uniform', 'distance']\n",
        "}\n",
        "\n",
        "modeling('knn', KNeighborsClassifier(), knn_params)"
      ]
    }
  ],
  "metadata": {
    "colab": {
      "collapsed_sections": [],
      "name": "Starter Code - Smaller Dataset (10,000 Rows)",
      "provenance": []
    },
    "kernelspec": {
      "display_name": "Python 3",
      "name": "python3"
    },
    "language_info": {
      "name": "python"
    },
    "accelerator": "GPU"
  },
  "nbformat": 4,
  "nbformat_minor": 0
}