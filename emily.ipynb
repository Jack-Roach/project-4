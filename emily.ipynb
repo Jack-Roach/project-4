{
 "cells": [
  {
   "cell_type": "code",
   "execution_count": 1,
   "metadata": {},
   "outputs": [],
   "source": [
    "import json\n",
    "\n",
    "d = open('/Users/ER/Desktop/GA:ADA/Course_Materials/project4/project-4/mod2.json')"
   ]
  },
  {
   "cell_type": "code",
   "execution_count": 2,
   "metadata": {},
   "outputs": [],
   "source": [
    "birth = json.load(d)"
   ]
  },
  {
   "cell_type": "code",
   "execution_count": 3,
   "metadata": {},
   "outputs": [],
   "source": [
    "import pandas as pd\n",
    "\n",
    "df_birth = pd.DataFrame(birth['data']['counties'])"
   ]
  },
  {
   "cell_type": "code",
   "execution_count": 4,
   "metadata": {},
   "outputs": [
    {
     "data": {
      "text/html": [
       "<div>\n",
       "<style scoped>\n",
       "    .dataframe tbody tr th:only-of-type {\n",
       "        vertical-align: middle;\n",
       "    }\n",
       "\n",
       "    .dataframe tbody tr th {\n",
       "        vertical-align: top;\n",
       "    }\n",
       "\n",
       "    .dataframe thead th {\n",
       "        text-align: right;\n",
       "    }\n",
       "</style>\n",
       "<table border=\"1\" class=\"dataframe\">\n",
       "  <thead>\n",
       "    <tr style=\"text-align: right;\">\n",
       "      <th></th>\n",
       "      <th>fips</th>\n",
       "      <th>name</th>\n",
       "      <th>maternity_care_access</th>\n",
       "      <th>ob_hospitals</th>\n",
       "      <th>ob_providers</th>\n",
       "    </tr>\n",
       "  </thead>\n",
       "  <tbody>\n",
       "    <tr>\n",
       "      <th>0</th>\n",
       "      <td>1001</td>\n",
       "      <td>Autauga</td>\n",
       "      <td>Low Access</td>\n",
       "      <td>No Hospitals or Birth Centers</td>\n",
       "      <td>1-29 Obstetric Provider</td>\n",
       "    </tr>\n",
       "    <tr>\n",
       "      <th>1</th>\n",
       "      <td>1003</td>\n",
       "      <td>Baldwin</td>\n",
       "      <td>Full Access</td>\n",
       "      <td>No Hospitals or Birth Centers</td>\n",
       "      <td>60+ Obstetric Provider</td>\n",
       "    </tr>\n",
       "    <tr>\n",
       "      <th>2</th>\n",
       "      <td>1005</td>\n",
       "      <td>Barbour</td>\n",
       "      <td>Low Access</td>\n",
       "      <td>No Hospitals or Birth Centers</td>\n",
       "      <td>1-60 Obstetric Provider</td>\n",
       "    </tr>\n",
       "    <tr>\n",
       "      <th>3</th>\n",
       "      <td>1007</td>\n",
       "      <td>Bibb</td>\n",
       "      <td>Low Access</td>\n",
       "      <td>1 Hospitals or Birth Centers</td>\n",
       "      <td>No Obstetric Provider</td>\n",
       "    </tr>\n",
       "    <tr>\n",
       "      <th>4</th>\n",
       "      <td>1009</td>\n",
       "      <td>Blount</td>\n",
       "      <td>Low Access</td>\n",
       "      <td>No Hospitals or Birth Centers</td>\n",
       "      <td>1-60 Obstetric Provider</td>\n",
       "    </tr>\n",
       "    <tr>\n",
       "      <th>...</th>\n",
       "      <td>...</td>\n",
       "      <td>...</td>\n",
       "      <td>...</td>\n",
       "      <td>...</td>\n",
       "      <td>...</td>\n",
       "    </tr>\n",
       "    <tr>\n",
       "      <th>3137</th>\n",
       "      <td>56037</td>\n",
       "      <td>Sweetwater</td>\n",
       "      <td>Full Access</td>\n",
       "      <td>1 Hospitals or Birth Centers</td>\n",
       "      <td>60+ Obstetric Provider</td>\n",
       "    </tr>\n",
       "    <tr>\n",
       "      <th>3138</th>\n",
       "      <td>56039</td>\n",
       "      <td>Teton</td>\n",
       "      <td>Full Access</td>\n",
       "      <td>1 Hospitals or Birth Centers</td>\n",
       "      <td>60+ Obstetric Provider</td>\n",
       "    </tr>\n",
       "    <tr>\n",
       "      <th>3139</th>\n",
       "      <td>56041</td>\n",
       "      <td>Uinta</td>\n",
       "      <td>Full Access</td>\n",
       "      <td>1 Hospitals or Birth Centers</td>\n",
       "      <td>60+ Obstetric Provider</td>\n",
       "    </tr>\n",
       "    <tr>\n",
       "      <th>3140</th>\n",
       "      <td>56043</td>\n",
       "      <td>Washakie</td>\n",
       "      <td>Low Access</td>\n",
       "      <td>1 Hospitals or Birth Centers</td>\n",
       "      <td>No Obstetric Provider</td>\n",
       "    </tr>\n",
       "    <tr>\n",
       "      <th>3141</th>\n",
       "      <td>56045</td>\n",
       "      <td>Weston</td>\n",
       "      <td>Maternity Care Desert</td>\n",
       "      <td>No Hospitals or Birth Centers</td>\n",
       "      <td>No Obstetric Provider</td>\n",
       "    </tr>\n",
       "  </tbody>\n",
       "</table>\n",
       "<p>3142 rows × 5 columns</p>\n",
       "</div>"
      ],
      "text/plain": [
       "       fips        name  maternity_care_access                   ob_hospitals  \\\n",
       "0      1001     Autauga             Low Access  No Hospitals or Birth Centers   \n",
       "1      1003     Baldwin            Full Access  No Hospitals or Birth Centers   \n",
       "2      1005     Barbour             Low Access  No Hospitals or Birth Centers   \n",
       "3      1007        Bibb             Low Access   1 Hospitals or Birth Centers   \n",
       "4      1009      Blount             Low Access  No Hospitals or Birth Centers   \n",
       "...     ...         ...                    ...                            ...   \n",
       "3137  56037  Sweetwater            Full Access   1 Hospitals or Birth Centers   \n",
       "3138  56039       Teton            Full Access   1 Hospitals or Birth Centers   \n",
       "3139  56041       Uinta            Full Access   1 Hospitals or Birth Centers   \n",
       "3140  56043    Washakie             Low Access   1 Hospitals or Birth Centers   \n",
       "3141  56045      Weston  Maternity Care Desert  No Hospitals or Birth Centers   \n",
       "\n",
       "                 ob_providers  \n",
       "0     1-29 Obstetric Provider  \n",
       "1      60+ Obstetric Provider  \n",
       "2     1-60 Obstetric Provider  \n",
       "3       No Obstetric Provider  \n",
       "4     1-60 Obstetric Provider  \n",
       "...                       ...  \n",
       "3137   60+ Obstetric Provider  \n",
       "3138   60+ Obstetric Provider  \n",
       "3139   60+ Obstetric Provider  \n",
       "3140    No Obstetric Provider  \n",
       "3141    No Obstetric Provider  \n",
       "\n",
       "[3142 rows x 5 columns]"
      ]
     },
     "execution_count": 4,
     "metadata": {},
     "output_type": "execute_result"
    }
   ],
   "source": [
    "df_birth"
   ]
  },
  {
   "cell_type": "code",
   "execution_count": 5,
   "metadata": {},
   "outputs": [],
   "source": [
    "df_birth['fips']=df_birth['fips'].apply(lambda x: '{0:0>5}'.format(x))\n"
   ]
  },
  {
   "cell_type": "code",
   "execution_count": 6,
   "metadata": {},
   "outputs": [
    {
     "data": {
      "text/html": [
       "<div>\n",
       "<style scoped>\n",
       "    .dataframe tbody tr th:only-of-type {\n",
       "        vertical-align: middle;\n",
       "    }\n",
       "\n",
       "    .dataframe tbody tr th {\n",
       "        vertical-align: top;\n",
       "    }\n",
       "\n",
       "    .dataframe thead th {\n",
       "        text-align: right;\n",
       "    }\n",
       "</style>\n",
       "<table border=\"1\" class=\"dataframe\">\n",
       "  <thead>\n",
       "    <tr style=\"text-align: right;\">\n",
       "      <th></th>\n",
       "      <th>fips</th>\n",
       "      <th>name</th>\n",
       "      <th>maternity_care_access</th>\n",
       "      <th>ob_hospitals</th>\n",
       "      <th>ob_providers</th>\n",
       "    </tr>\n",
       "  </thead>\n",
       "  <tbody>\n",
       "    <tr>\n",
       "      <th>0</th>\n",
       "      <td>01001</td>\n",
       "      <td>Autauga</td>\n",
       "      <td>Low Access</td>\n",
       "      <td>No Hospitals or Birth Centers</td>\n",
       "      <td>1-29 Obstetric Provider</td>\n",
       "    </tr>\n",
       "    <tr>\n",
       "      <th>1</th>\n",
       "      <td>01003</td>\n",
       "      <td>Baldwin</td>\n",
       "      <td>Full Access</td>\n",
       "      <td>No Hospitals or Birth Centers</td>\n",
       "      <td>60+ Obstetric Provider</td>\n",
       "    </tr>\n",
       "    <tr>\n",
       "      <th>2</th>\n",
       "      <td>01005</td>\n",
       "      <td>Barbour</td>\n",
       "      <td>Low Access</td>\n",
       "      <td>No Hospitals or Birth Centers</td>\n",
       "      <td>1-60 Obstetric Provider</td>\n",
       "    </tr>\n",
       "    <tr>\n",
       "      <th>3</th>\n",
       "      <td>01007</td>\n",
       "      <td>Bibb</td>\n",
       "      <td>Low Access</td>\n",
       "      <td>1 Hospitals or Birth Centers</td>\n",
       "      <td>No Obstetric Provider</td>\n",
       "    </tr>\n",
       "    <tr>\n",
       "      <th>4</th>\n",
       "      <td>01009</td>\n",
       "      <td>Blount</td>\n",
       "      <td>Low Access</td>\n",
       "      <td>No Hospitals or Birth Centers</td>\n",
       "      <td>1-60 Obstetric Provider</td>\n",
       "    </tr>\n",
       "  </tbody>\n",
       "</table>\n",
       "</div>"
      ],
      "text/plain": [
       "    fips     name maternity_care_access                   ob_hospitals  \\\n",
       "0  01001  Autauga            Low Access  No Hospitals or Birth Centers   \n",
       "1  01003  Baldwin           Full Access  No Hospitals or Birth Centers   \n",
       "2  01005  Barbour            Low Access  No Hospitals or Birth Centers   \n",
       "3  01007     Bibb            Low Access   1 Hospitals or Birth Centers   \n",
       "4  01009   Blount            Low Access  No Hospitals or Birth Centers   \n",
       "\n",
       "              ob_providers  \n",
       "0  1-29 Obstetric Provider  \n",
       "1   60+ Obstetric Provider  \n",
       "2  1-60 Obstetric Provider  \n",
       "3    No Obstetric Provider  \n",
       "4  1-60 Obstetric Provider  "
      ]
     },
     "execution_count": 6,
     "metadata": {},
     "output_type": "execute_result"
    }
   ],
   "source": [
    "df_birth.head(5)"
   ]
  },
  {
   "cell_type": "code",
   "execution_count": 7,
   "metadata": {},
   "outputs": [],
   "source": [
    "df_birth['fips'] = df_birth['fips'].astype('str')"
   ]
  },
  {
   "cell_type": "code",
   "execution_count": 8,
   "metadata": {},
   "outputs": [
    {
     "name": "stdout",
     "output_type": "stream",
     "text": [
      "<class 'pandas.core.frame.DataFrame'>\n",
      "RangeIndex: 3142 entries, 0 to 3141\n",
      "Data columns (total 5 columns):\n",
      " #   Column                 Non-Null Count  Dtype \n",
      "---  ------                 --------------  ----- \n",
      " 0   fips                   3142 non-null   object\n",
      " 1   name                   3142 non-null   object\n",
      " 2   maternity_care_access  3138 non-null   object\n",
      " 3   ob_hospitals           3142 non-null   object\n",
      " 4   ob_providers           3142 non-null   object\n",
      "dtypes: object(5)\n",
      "memory usage: 122.9+ KB\n"
     ]
    }
   ],
   "source": [
    "df_birth.info()"
   ]
  },
  {
   "cell_type": "code",
   "execution_count": 9,
   "metadata": {},
   "outputs": [],
   "source": [
    "df_birth.to_csv('str-reproductive_data.csv')"
   ]
  },
  {
   "cell_type": "code",
   "execution_count": null,
   "metadata": {},
   "outputs": [],
   "source": []
  }
 ],
 "metadata": {
  "interpreter": {
   "hash": "aee8b7b246df8f9039afb4144a1f6fd8d2ca17a180786b69acc140d282b71a49"
  },
  "kernelspec": {
   "display_name": "Python 3.9.12 64-bit",
   "language": "python",
   "name": "python3"
  },
  "language_info": {
   "codemirror_mode": {
    "name": "ipython",
    "version": 3
   },
   "file_extension": ".py",
   "mimetype": "text/x-python",
   "name": "python",
   "nbconvert_exporter": "python",
   "pygments_lexer": "ipython3",
   "version": "3.8.8"
  },
  "orig_nbformat": 4
 },
 "nbformat": 4,
 "nbformat_minor": 2
}
